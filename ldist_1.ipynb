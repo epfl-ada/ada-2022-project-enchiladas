{
 "cells": [
  {
   "cell_type": "code",
   "execution_count": 1,
   "id": "46fdb884",
   "metadata": {},
   "outputs": [
    {
     "name": "stdout",
     "output_type": "stream",
     "text": [
      "import completed\n"
     ]
    }
   ],
   "source": [
    "import numpy as np\n",
    "import pandas as pd\n",
    "import seaborn as sns\n",
    "import matplotlib.pyplot as plt\n",
    "import os.path\n",
    "from nlp import * #custom made functions\n",
    "print(\"import completed\")\n",
    "\n",
    "# number of pandas rows to display\n",
    "pd.set_option('display.max_rows', 10)"
   ]
  },
  {
   "cell_type": "code",
   "execution_count": 2,
   "id": "41def4ba",
   "metadata": {},
   "outputs": [],
   "source": [
    "#data folder path\n",
    "data_folder = './Data/'\n",
    "path_ba = data_folder + 'BeerAdvocate/'\n",
    "path_rb = data_folder + 'RateBeer/'\n",
    "path_md = data_folder + 'matched_beer_data/'"
   ]
  },
  {
   "cell_type": "code",
   "execution_count": 3,
   "id": "043bd115",
   "metadata": {},
   "outputs": [],
   "source": [
    "pickle_filename = \"df_rb_reviews_filtered_beers_merged_users.pickle\"\n",
    "df_rb_reviews_filtered_beers_merged_users = pd.read_pickle(f\"Data/{pickle_filename}\")\n",
    "pickle_filename = \"df_ba_ratings_filtered_beers_merged_users.pickle\"\n",
    "df_ba_reviews_filtered_beers_merged_users = pd.read_pickle(f\"Data/{pickle_filename}\")"
   ]
  },
  {
   "cell_type": "code",
   "execution_count": 4,
   "id": "89757e35",
   "metadata": {},
   "outputs": [
    {
     "data": {
      "text/plain": [
       "263.93459681909485"
      ]
     },
     "execution_count": 4,
     "metadata": {},
     "output_type": "execute_result"
    }
   ],
   "source": [
    "corpus = Corpus()\n",
    "\n",
    "country_list = ['United States', 'England', 'Northern Ireland', 'Wales', 'Scotland', 'Australia', 'Canada', 'Ireland']\n",
    "\n",
    "for country in country_list:\n",
    "    df = df_ba_reviews_filtered_beers_merged_users[df_ba_reviews_filtered_beers_merged_users['country']==country]\n",
    "    df = df[df['text']!=\"\"]\n",
    "    df_text = df['text']\n",
    "    text = ' '.join(df_text)\n",
    "\n",
    "    corpus.add_text(text, country, country)\n",
    "\n",
    "corpus.generate_vectors(tokenize_type=\"whitespace\", scale_type=\"std_row\")\n",
    "\n",
    "corpus.X[0].mean(), corpus.X[0].std()"
   ]
  }
 ],
 "metadata": {
  "kernelspec": {
   "display_name": "Python 3.9.0 ('ada')",
   "language": "python",
   "name": "python3"
  },
  "language_info": {
   "codemirror_mode": {
    "name": "ipython",
    "version": 3
   },
   "file_extension": ".py",
   "mimetype": "text/x-python",
   "name": "python",
   "nbconvert_exporter": "python",
   "pygments_lexer": "ipython3",
   "version": "3.9.0"
  },
  "vscode": {
   "interpreter": {
    "hash": "b200889c2b79fb9d96987e00ef0b377c294eb3fe29be364756a29fa08d464260"
   }
  }
 },
 "nbformat": 4,
 "nbformat_minor": 5
}
