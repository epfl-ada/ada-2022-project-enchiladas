{
 "cells": [
  {
   "cell_type": "code",
   "execution_count": null,
   "id": "46fdb884",
   "metadata": {},
   "outputs": [],
   "source": [
    "import numpy as np\n",
    "import pandas as pd\n",
    "import seaborn as sns\n",
    "import matplotlib.pyplot as plt\n",
    "import os.path\n",
    "from nlp import * #custom made functions\n",
    "print(\"import completed\")\n",
    "\n",
    "# number of pandas rows to display\n",
    "pd.set_option('display.max_rows', 10)"
   ]
  },
  {
   "cell_type": "code",
   "execution_count": null,
   "id": "41def4ba",
   "metadata": {},
   "outputs": [],
   "source": [
    "#data folder path\n",
    "data_folder = './Data/'\n",
    "path_ba = data_folder + 'BeerAdvocate/'\n",
    "path_rb = data_folder + 'RateBeer/'\n",
    "path_md = data_folder + 'matched_beer_data/'"
   ]
  },
  {
   "cell_type": "code",
   "execution_count": 13,
   "id": "043bd115",
   "metadata": {},
   "outputs": [
    {
     "ename": "KeyboardInterrupt",
     "evalue": "",
     "output_type": "error",
     "traceback": [
      "\u001b[1;31m---------------------------------------------------------------------------\u001b[0m",
      "\u001b[1;31mKeyboardInterrupt\u001b[0m                         Traceback (most recent call last)",
      "Cell \u001b[1;32mIn [13], line 2\u001b[0m\n\u001b[0;32m      1\u001b[0m pickle_filename \u001b[39m=\u001b[39m \u001b[39m\"\u001b[39m\u001b[39mdf_rb_reviews_filtered_beers_merged_users.pickle\u001b[39m\u001b[39m\"\u001b[39m\n\u001b[1;32m----> 2\u001b[0m df_rb_reviews_filtered_beers_merged_users \u001b[39m=\u001b[39m pd\u001b[39m.\u001b[39;49mread_pickle(\u001b[39mf\u001b[39;49m\u001b[39m\"\u001b[39;49m\u001b[39mData/\u001b[39;49m\u001b[39m{\u001b[39;49;00mpickle_filename\u001b[39m}\u001b[39;49;00m\u001b[39m\"\u001b[39;49m)\n\u001b[0;32m      3\u001b[0m pickle_filename \u001b[39m=\u001b[39m \u001b[39m\"\u001b[39m\u001b[39mdf_ba_ratings_filtered_beers_merged_users.pickle\u001b[39m\u001b[39m\"\u001b[39m\n\u001b[0;32m      4\u001b[0m df_ba_reviews_filtered_beers_merged_users \u001b[39m=\u001b[39m pd\u001b[39m.\u001b[39mread_pickle(\u001b[39mf\u001b[39m\u001b[39m\"\u001b[39m\u001b[39mData/\u001b[39m\u001b[39m{\u001b[39;00mpickle_filename\u001b[39m}\u001b[39;00m\u001b[39m\"\u001b[39m)\n",
      "File \u001b[1;32mc:\\Users\\oisin\\anaconda3\\envs\\ada\\lib\\site-packages\\pandas\\io\\pickle.py:208\u001b[0m, in \u001b[0;36mread_pickle\u001b[1;34m(filepath_or_buffer, compression, storage_options)\u001b[0m\n\u001b[0;32m    205\u001b[0m     \u001b[39mwith\u001b[39;00m warnings\u001b[39m.\u001b[39mcatch_warnings(record\u001b[39m=\u001b[39m\u001b[39mTrue\u001b[39;00m):\n\u001b[0;32m    206\u001b[0m         \u001b[39m# We want to silence any warnings about, e.g. moved modules.\u001b[39;00m\n\u001b[0;32m    207\u001b[0m         warnings\u001b[39m.\u001b[39msimplefilter(\u001b[39m\"\u001b[39m\u001b[39mignore\u001b[39m\u001b[39m\"\u001b[39m, \u001b[39mWarning\u001b[39;00m)\n\u001b[1;32m--> 208\u001b[0m         \u001b[39mreturn\u001b[39;00m pickle\u001b[39m.\u001b[39;49mload(handles\u001b[39m.\u001b[39;49mhandle)\n\u001b[0;32m    209\u001b[0m \u001b[39mexcept\u001b[39;00m excs_to_catch:\n\u001b[0;32m    210\u001b[0m     \u001b[39m# e.g.\u001b[39;00m\n\u001b[0;32m    211\u001b[0m     \u001b[39m#  \"No module named 'pandas.core.sparse.series'\"\u001b[39;00m\n\u001b[0;32m    212\u001b[0m     \u001b[39m#  \"Can't get attribute '__nat_unpickle' on <module 'pandas._libs.tslib\"\u001b[39;00m\n\u001b[0;32m    213\u001b[0m     \u001b[39mreturn\u001b[39;00m pc\u001b[39m.\u001b[39mload(handles\u001b[39m.\u001b[39mhandle, encoding\u001b[39m=\u001b[39m\u001b[39mNone\u001b[39;00m)\n",
      "File \u001b[1;32mc:\\Users\\oisin\\anaconda3\\envs\\ada\\lib\\site-packages\\pandas\\_libs\\internals.pyx:575\u001b[0m, in \u001b[0;36mpandas._libs.internals._unpickle_block\u001b[1;34m()\u001b[0m\n",
      "File \u001b[1;32mc:\\Users\\oisin\\anaconda3\\envs\\ada\\lib\\site-packages\\pandas\\core\\internals\\blocks.py:2169\u001b[0m, in \u001b[0;36mnew_block\u001b[1;34m(values, placement, ndim)\u001b[0m\n\u001b[0;32m   2165\u001b[0m     values \u001b[39m=\u001b[39m maybe_coerce_values(values)\n\u001b[0;32m   2166\u001b[0m     \u001b[39mreturn\u001b[39;00m klass(values, ndim\u001b[39m=\u001b[39m\u001b[39m2\u001b[39m, placement\u001b[39m=\u001b[39mplacement)\n\u001b[1;32m-> 2169\u001b[0m \u001b[39mdef\u001b[39;00m \u001b[39mnew_block\u001b[39m(values, placement, \u001b[39m*\u001b[39m, ndim: \u001b[39mint\u001b[39m) \u001b[39m-\u001b[39m\u001b[39m>\u001b[39m Block:\n\u001b[0;32m   2170\u001b[0m     \u001b[39m# caller is responsible for ensuring values is NOT a PandasArray\u001b[39;00m\n\u001b[0;32m   2172\u001b[0m     \u001b[39mif\u001b[39;00m \u001b[39mnot\u001b[39;00m \u001b[39misinstance\u001b[39m(placement, BlockPlacement):\n\u001b[0;32m   2173\u001b[0m         placement \u001b[39m=\u001b[39m BlockPlacement(placement)\n",
      "\u001b[1;31mKeyboardInterrupt\u001b[0m: "
     ]
    }
   ],
   "source": [
    "pickle_filename = \"df_rb_reviews_filtered_beers_merged_users.pickle\"\n",
    "df_rb_reviews_filtered_beers_merged_users = pd.read_pickle(f\"Data/{pickle_filename}\")\n",
    "pickle_filename = \"df_ba_ratings_filtered_beers_merged_users.pickle\"\n",
    "df_ba_reviews_filtered_beers_merged_users = pd.read_pickle(f\"Data/{pickle_filename}\")"
   ]
  },
  {
   "cell_type": "code",
   "execution_count": null,
   "id": "89757e35",
   "metadata": {},
   "outputs": [],
   "source": [
    "corpus = Corpus()\n",
    "\n",
    "country_list = ['United States', 'England', 'Northern Ireland', 'Wales', 'Scotland', 'Australia', 'Canada', 'Ireland']\n",
    "\n",
    "for country in country_list:\n",
    "    df = df_ba_reviews_filtered_beers_merged_users[df_ba_reviews_filtered_beers_merged_users['country']==country]\n",
    "    df = df[df['text']!=\"\"]\n",
    "    df_text = df['text']\n",
    "    text = ' '.join(df_text)\n",
    "    text = text.lower()\n",
    "\n",
    "    corpus.add_text(text, country, country)\n",
    "\n",
    "corpus.generate_vectors(tokenize_type=\"words\", vec_type=\"count\", scale_type=\"std_row\")"
   ]
  },
  {
   "cell_type": "code",
   "execution_count": null,
   "id": "0c23c759",
   "metadata": {},
   "outputs": [],
   "source": [
    "corpus.X[0].mean(), corpus.X[0].std()"
   ]
  },
  {
   "cell_type": "code",
   "execution_count": null,
   "id": "161168df",
   "metadata": {},
   "outputs": [],
   "source": [
    "corpus.X.shape"
   ]
  },
  {
   "cell_type": "code",
   "execution_count": null,
   "id": "093feee8",
   "metadata": {},
   "outputs": [],
   "source": [
    "metric = 'euclidean' #'cosine' #'cityblock' #'euclidean' # 'manhattan' #'minmax'\n",
    "dm = distance_matrix(corpus, metric=metric)\n",
    "for i in range(len(country_list)):\n",
    "    country = country_list[i]\n",
    "    print(country, \"-\"*30)\n",
    "    stringy=''\n",
    "    for j in range(len(country_list)):\n",
    "        stringy+=\" \"+country_list[j] + \": \" + f'{dm[i][j]:.2f}'\n",
    "    print(stringy)\n",
    "clustermap(corpus, distance_matrix=dm, fontsize=8, color_leafs=True,\\\n",
    "           outputfile='TEST.pdf',\n",
    "          show=True, save=False, return_svg=False)"
   ]
  }
 ],
 "metadata": {
  "kernelspec": {
   "display_name": "Python 3.9.0 ('ada')",
   "language": "python",
   "name": "python3"
  },
  "language_info": {
   "codemirror_mode": {
    "name": "ipython",
    "version": 3
   },
   "file_extension": ".py",
   "mimetype": "text/x-python",
   "name": "python",
   "nbconvert_exporter": "python",
   "pygments_lexer": "ipython3",
   "version": "3.9.0"
  },
  "vscode": {
   "interpreter": {
    "hash": "b200889c2b79fb9d96987e00ef0b377c294eb3fe29be364756a29fa08d464260"
   }
  }
 },
 "nbformat": 4,
 "nbformat_minor": 5
}
