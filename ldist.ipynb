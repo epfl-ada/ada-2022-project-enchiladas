{
 "cells": [
  {
   "cell_type": "code",
   "execution_count": 1,
   "id": "46fdb884",
   "metadata": {},
   "outputs": [
    {
     "name": "stdout",
     "output_type": "stream",
     "text": [
      "import completed\n"
     ]
    }
   ],
   "source": [
    "import numpy as np\n",
    "import pandas as pd\n",
    "import seaborn as sns\n",
    "import matplotlib.pyplot as plt\n",
    "import os.path\n",
    "from nlp import * #custom made functions\n",
    "print(\"import completed\")\n",
    "\n",
    "# number of pandas rows to display\n",
    "pd.set_option('display.max_rows', 10)"
   ]
  },
  {
   "cell_type": "code",
   "execution_count": 2,
   "id": "41def4ba",
   "metadata": {},
   "outputs": [],
   "source": [
    "#data folder path\n",
    "data_folder = './Data/'\n",
    "path_ba = data_folder + 'BeerAdvocate/'\n",
    "path_rb = data_folder + 'RateBeer/'\n",
    "path_md = data_folder + 'matched_beer_data/'"
   ]
  },
  {
   "cell_type": "code",
   "execution_count": 3,
   "id": "043bd115",
   "metadata": {},
   "outputs": [],
   "source": [
    "pickle_filename = \"df_rb_reviews_filtered_beers_merged_users.pickle\"\n",
    "df_rb_reviews_filtered_beers_merged_users = pd.read_pickle(f\"Data/{pickle_filename}\")\n",
    "pickle_filename = \"df_ba_ratings_filtered_beers_merged_users.pickle\"\n",
    "df_ba_reviews_filtered_beers_merged_users = pd.read_pickle(f\"Data/{pickle_filename}\")"
   ]
  },
  {
   "cell_type": "code",
   "execution_count": 4,
   "id": "89757e35",
   "metadata": {},
   "outputs": [
    {
     "ename": "OSError",
     "evalue": "[E050] Can't find model 'en_core_web_md'. It doesn't seem to be a Python package or a valid path to a data directory.",
     "output_type": "error",
     "traceback": [
      "\u001b[1;31m---------------------------------------------------------------------------\u001b[0m",
      "\u001b[1;31mOSError\u001b[0m                                   Traceback (most recent call last)",
      "Cell \u001b[1;32mIn [4], line 13\u001b[0m\n\u001b[0;32m      9\u001b[0m     text \u001b[39m=\u001b[39m \u001b[39m'\u001b[39m\u001b[39m \u001b[39m\u001b[39m'\u001b[39m\u001b[39m.\u001b[39mjoin(df_text)\n\u001b[0;32m     11\u001b[0m     corpus\u001b[39m.\u001b[39madd_text(text, country, country)\n\u001b[1;32m---> 13\u001b[0m corpus\u001b[39m.\u001b[39;49mgenerate_vectors(tokenize_type\u001b[39m=\u001b[39;49m\u001b[39m\"\u001b[39;49m\u001b[39mspacy\u001b[39;49m\u001b[39m\"\u001b[39;49m, vec_type\u001b[39m=\u001b[39;49m\u001b[39m\"\u001b[39;49m\u001b[39mspacy\u001b[39;49m\u001b[39m\"\u001b[39;49m, scale_type\u001b[39m=\u001b[39;49m\u001b[39m\"\u001b[39;49m\u001b[39mstd_row\u001b[39;49m\u001b[39m\"\u001b[39;49m)\n\u001b[0;32m     15\u001b[0m corpus\u001b[39m.\u001b[39mX[\u001b[39m0\u001b[39m]\u001b[39m.\u001b[39mmean(), corpus\u001b[39m.\u001b[39mX[\u001b[39m0\u001b[39m]\u001b[39m.\u001b[39mstd()\n",
      "File \u001b[1;32mc:\\Users\\oisin\\Coding\\SEM3\\ADA\\enchiladas\\nlp.py:49\u001b[0m, in \u001b[0;36mCorpus.generate_vectors\u001b[1;34m(self, vec_type, tokenize_type, scale_type, ngram_min, ngram_max, mfi, max_df, min_df)\u001b[0m\n\u001b[0;32m     47\u001b[0m \u001b[39melif\u001b[39;00m tokenize_type \u001b[39m==\u001b[39m \u001b[39m'\u001b[39m\u001b[39mspacy\u001b[39m\u001b[39m'\u001b[39m:\n\u001b[0;32m     48\u001b[0m     tokenizer \u001b[39m=\u001b[39m \u001b[39mlambda\u001b[39;00m x: x \u001b[39m# don't do anything\u001b[39;00m\n\u001b[1;32m---> 49\u001b[0m     nlp \u001b[39m=\u001b[39m spacy\u001b[39m.\u001b[39;49mload(\u001b[39m'\u001b[39;49m\u001b[39men_core_web_md\u001b[39;49m\u001b[39m'\u001b[39;49m)\n\u001b[0;32m     50\u001b[0m \u001b[39melse\u001b[39;00m:\n\u001b[0;32m     51\u001b[0m     tokenizer \u001b[39m=\u001b[39m \u001b[39mlambda\u001b[39;00m x: x\u001b[39m.\u001b[39msplit()\n",
      "File \u001b[1;32mc:\\Users\\oisin\\anaconda3\\envs\\ada\\lib\\site-packages\\spacy\\__init__.py:54\u001b[0m, in \u001b[0;36mload\u001b[1;34m(name, vocab, disable, enable, exclude, config)\u001b[0m\n\u001b[0;32m     30\u001b[0m \u001b[39mdef\u001b[39;00m \u001b[39mload\u001b[39m(\n\u001b[0;32m     31\u001b[0m     name: Union[\u001b[39mstr\u001b[39m, Path],\n\u001b[0;32m     32\u001b[0m     \u001b[39m*\u001b[39m,\n\u001b[1;32m   (...)\u001b[0m\n\u001b[0;32m     37\u001b[0m     config: Union[Dict[\u001b[39mstr\u001b[39m, Any], Config] \u001b[39m=\u001b[39m util\u001b[39m.\u001b[39mSimpleFrozenDict(),\n\u001b[0;32m     38\u001b[0m ) \u001b[39m-\u001b[39m\u001b[39m>\u001b[39m Language:\n\u001b[0;32m     39\u001b[0m     \u001b[39m\"\"\"Load a spaCy model from an installed package or a local path.\u001b[39;00m\n\u001b[0;32m     40\u001b[0m \n\u001b[0;32m     41\u001b[0m \u001b[39m    name (str): Package name or model path.\u001b[39;00m\n\u001b[1;32m   (...)\u001b[0m\n\u001b[0;32m     52\u001b[0m \u001b[39m    RETURNS (Language): The loaded nlp object.\u001b[39;00m\n\u001b[0;32m     53\u001b[0m \u001b[39m    \"\"\"\u001b[39;00m\n\u001b[1;32m---> 54\u001b[0m     \u001b[39mreturn\u001b[39;00m util\u001b[39m.\u001b[39;49mload_model(\n\u001b[0;32m     55\u001b[0m         name,\n\u001b[0;32m     56\u001b[0m         vocab\u001b[39m=\u001b[39;49mvocab,\n\u001b[0;32m     57\u001b[0m         disable\u001b[39m=\u001b[39;49mdisable,\n\u001b[0;32m     58\u001b[0m         enable\u001b[39m=\u001b[39;49menable,\n\u001b[0;32m     59\u001b[0m         exclude\u001b[39m=\u001b[39;49mexclude,\n\u001b[0;32m     60\u001b[0m         config\u001b[39m=\u001b[39;49mconfig,\n\u001b[0;32m     61\u001b[0m     )\n",
      "File \u001b[1;32mc:\\Users\\oisin\\anaconda3\\envs\\ada\\lib\\site-packages\\spacy\\util.py:439\u001b[0m, in \u001b[0;36mload_model\u001b[1;34m(name, vocab, disable, enable, exclude, config)\u001b[0m\n\u001b[0;32m    437\u001b[0m \u001b[39mif\u001b[39;00m name \u001b[39min\u001b[39;00m OLD_MODEL_SHORTCUTS:\n\u001b[0;32m    438\u001b[0m     \u001b[39mraise\u001b[39;00m \u001b[39mIOError\u001b[39;00m(Errors\u001b[39m.\u001b[39mE941\u001b[39m.\u001b[39mformat(name\u001b[39m=\u001b[39mname, full\u001b[39m=\u001b[39mOLD_MODEL_SHORTCUTS[name]))  \u001b[39m# type: ignore[index]\u001b[39;00m\n\u001b[1;32m--> 439\u001b[0m \u001b[39mraise\u001b[39;00m \u001b[39mIOError\u001b[39;00m(Errors\u001b[39m.\u001b[39mE050\u001b[39m.\u001b[39mformat(name\u001b[39m=\u001b[39mname))\n",
      "\u001b[1;31mOSError\u001b[0m: [E050] Can't find model 'en_core_web_md'. It doesn't seem to be a Python package or a valid path to a data directory."
     ]
    }
   ],
   "source": [
    "corpus = Corpus()\n",
    "\n",
    "country_list = ['United States', 'England', 'Northern Ireland', 'Wales', 'Scotland', 'Australia', 'Canada', 'Ireland']\n",
    "\n",
    "for country in country_list:\n",
    "    df = df_ba_reviews_filtered_beers_merged_users[df_ba_reviews_filtered_beers_merged_users['country']==country]\n",
    "    df = df[df['text']!=\"\"]\n",
    "    df_text = df['text']\n",
    "    text = ' '.join(df_text)\n",
    "\n",
    "    corpus.add_text(text, country, country)\n",
    "\n",
    "corpus.generate_vectors(tokenize_type=\"spacy\", vec_type=\"spacy\", scale_type=\"std_row\")\n",
    "\n",
    "corpus.X[0].mean(), corpus.X[0].std()"
   ]
  },
  {
   "cell_type": "code",
   "execution_count": null,
   "id": "161168df",
   "metadata": {},
   "outputs": [
    {
     "data": {
      "text/plain": [
       "(8, 25)"
      ]
     },
     "execution_count": 5,
     "metadata": {},
     "output_type": "execute_result"
    }
   ],
   "source": [
    "corpus.X.shape"
   ]
  }
 ],
 "metadata": {
  "kernelspec": {
   "display_name": "Python 3.9.0 ('ada')",
   "language": "python",
   "name": "python3"
  },
  "language_info": {
   "codemirror_mode": {
    "name": "ipython",
    "version": 3
   },
   "file_extension": ".py",
   "mimetype": "text/x-python",
   "name": "python",
   "nbconvert_exporter": "python",
   "pygments_lexer": "ipython3",
   "version": "3.9.0"
  },
  "vscode": {
   "interpreter": {
    "hash": "b200889c2b79fb9d96987e00ef0b377c294eb3fe29be364756a29fa08d464260"
   }
  }
 },
 "nbformat": 4,
 "nbformat_minor": 5
}
